{
  "nbformat": 4,
  "nbformat_minor": 0,
  "metadata": {
    "colab": {
      "provenance": [],
      "authorship_tag": "ABX9TyNTneI3vfAW3O/YzVui7pSK",
      "include_colab_link": true
    },
    "kernelspec": {
      "name": "python3",
      "display_name": "Python 3"
    },
    "language_info": {
      "name": "python"
    }
  },
  "cells": [
    {
      "cell_type": "markdown",
      "metadata": {
        "id": "view-in-github",
        "colab_type": "text"
      },
      "source": [
        "<a href=\"https://colab.research.google.com/github/Bhargavi009/OIBSIP/blob/main/Greeting_card.ipynb\" target=\"_parent\"><img src=\"https://colab.research.google.com/assets/colab-badge.svg\" alt=\"Open In Colab\"/></a>"
      ]
    },
    {
      "cell_type": "code",
      "execution_count": null,
      "metadata": {
        "colab": {
          "base_uri": "https://localhost:8080/"
        },
        "id": "wrFKTWq1woaj",
        "outputId": "cba0a45d-cb9a-4533-aa10-9fc82648cfc8"
      },
      "outputs": [
        {
          "output_type": "stream",
          "name": "stderr",
          "text": [
            "The attention mask and the pad token id were not set. As a consequence, you may observe unexpected behavior. Please pass your input's `attention_mask` to obtain reliable results.\n",
            "Setting `pad_token_id` to `eos_token_id`:50256 for open-end generation.\n",
            "<ipython-input-11-41250447102c>:41: DeprecationWarning: textsize is deprecated and will be removed in Pillow 10 (2023-07-01). Use textbbox or textlength instead.\n",
            "  text_size = draw.textsize(wrapped_text, font=font)\n"
          ]
        }
      ],
      "source": [
        "from transformers import GPT2LMHeadModel, GPT2Tokenizer\n",
        "from PIL import Image, ImageDraw, ImageFont\n",
        "import textwrap\n",
        "\n",
        "def generate_greeting_card(name, occasion, background_path):\n",
        "    # Load pre-trained GPT-2 model and tokenizer\n",
        "    model_name = \"gpt2\"\n",
        "    tokenizer = GPT2Tokenizer.from_pretrained(model_name)\n",
        "    model = GPT2LMHeadModel.from_pretrained(model_name)\n",
        "\n",
        "    # Input prompt for the greeting card based on the occasion\n",
        "    if occasion.lower() == \"birthday\":\n",
        "        prompt = f\"Happy Birthday, {name}! May your day be filled with joy, laughter, and wonderful surprises. Wishing you a fantastic year ahead!\"\n",
        "    elif occasion.lower() == \"anniversary\":\n",
        "        prompt = f\"Happy Anniversary, {name}! Celebrating the love and companionship that has grown stronger over the years. May your journey together continue to be filled with happiness and love.\"\n",
        "    else:\n",
        "        prompt = f\"Dear {name},\\n\\nWishing you a fantastic {occasion}! May this special day bring you joy, success, and fulfillment. May your life be painted with happiness, love, and prosperity—a canvas of unforgettable moments and endless blessings.\"\n",
        "\n",
        "    # Tokenize the prompt and generate text\n",
        "    input_ids = tokenizer.encode(prompt, return_tensors=\"pt\", max_length=150, truncation=True)\n",
        "    output = model.generate(input_ids, max_length=300, num_beams=5, no_repeat_ngram_size=2, early_stopping=True)\n",
        "    generated_text = tokenizer.decode(output[0], skip_special_tokens=True)\n",
        "\n",
        "    # Load background image\n",
        "    background_image = Image.open(background_path)\n",
        "\n",
        "    # Calculate the position to center the text on the background image\n",
        "    card_width, card_height = 600, 400\n",
        "    image_width, image_height = background_image.size\n",
        "    text_position = ((card_width - image_width) // 2, (card_height - image_height) // 2)\n",
        "    draw = ImageDraw.Draw(background_image)\n",
        "\n",
        "    font_size = 20  # Adjust the font size as needed\n",
        "    font_path =  \"/content/Lemon-Regular.ttf\" # Replace with the path to your TrueType font file\n",
        "    font = ImageFont.truetype(font_path, font_size)\n",
        "\n",
        "    # Wrap the generated text for better display\n",
        "    wrapped_text = textwrap.fill(generated_text, width=40)\n",
        "\n",
        "    # Calculate the text position based on the center position and text size\n",
        "    text_size = draw.textsize(wrapped_text, font=font)\n",
        "    text_position = ((card_width - text_size[0]) // 2, (card_height - text_size[1]) // 2)\n",
        "\n",
        "    # Draw the text on the background image\n",
        "    draw.text(text_position, wrapped_text, fill=\"black\", font=font)\n",
        "\n",
        "    # Save the generated greeting card with background and text\n",
        "    background_image.save(\"generated_card_with_background.png\")\n",
        "\n",
        "    # Display the greeting card\n",
        "    background_image.show()\n",
        "\n",
        "# Example usage:\n",
        "recipient_name = \"Jwalitha\"\n",
        "occasion = \"Birthday\"\n",
        "background_path = \"back1.jpg\"\n",
        "generate_greeting_card(recipient_name, occasion, background_path)\n"
      ]
    }
  ]
}